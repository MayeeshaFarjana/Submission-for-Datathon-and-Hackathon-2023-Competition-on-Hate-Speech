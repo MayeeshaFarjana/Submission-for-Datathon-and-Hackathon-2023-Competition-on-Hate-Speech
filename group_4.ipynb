{
  "nbformat": 4,
  "nbformat_minor": 0,
  "metadata": {
    "colab": {
      "provenance": []
    },
    "kernelspec": {
      "name": "python3",
      "display_name": "Python 3"
    },
    "language_info": {
      "name": "python"
    }
  },
  "cells": [
    {
      "cell_type": "markdown",
      "source": [
        "Importing Necessary Libraries"
      ],
      "metadata": {
        "id": "-ji_MIZ02Dmf"
      }
    },
    {
      "cell_type": "code",
      "execution_count": 84,
      "metadata": {
        "id": "HuIAG8NTknT0"
      },
      "outputs": [],
      "source": [
        "import numpy as np\n",
        "import pandas as pd\n",
        "import os\n",
        "import matplotlib.pyplot as plt"
      ]
    },
    {
      "cell_type": "markdown",
      "source": [
        "Getting into the data"
      ],
      "metadata": {
        "id": "C7vWQnpm2AU5"
      }
    },
    {
      "cell_type": "code",
      "source": [
        "df = pd.read_csv(r'/90Percent_ClassData.csv')"
      ],
      "metadata": {
        "id": "9-pUrDFEkyOS"
      },
      "execution_count": 85,
      "outputs": []
    },
    {
      "cell_type": "code",
      "source": [
        "df.drop(columns=['Unnamed: 0'], inplace = True)\n",
        "df"
      ],
      "metadata": {
        "colab": {
          "base_uri": "https://localhost:8080/",
          "height": 713
        },
        "id": "AHqn1NzwoJ2Q",
        "outputId": "249d1cb1-8596-4708-8b95-3b006f1183c8"
      },
      "execution_count": 86,
      "outputs": [
        {
          "output_type": "execute_result",
          "data": {
            "text/plain": [
              "                  TweetID       Username  \\\n",
              "0     1396032368515813377      ASkepblue   \n",
              "1     1362607553029558272        prua732   \n",
              "2     1390703170712588291        IuicNew   \n",
              "3     1237888923495325696       lixyouth   \n",
              "4     1440952710912565253   LawrenceWin1   \n",
              "...                   ...            ...   \n",
              "5395  1353667209701294080      BiztheBuz   \n",
              "5396  1379290703864459270  COMA387Group2   \n",
              "5397  1323188100370108417  krmanishsingh   \n",
              "5398  1273546532688662531    DaveBell100   \n",
              "5399  1238166031987814402    mc160402882   \n",
              "\n",
              "                                                   Text  \\\n",
              "0     This kind of remainds me of how some random 12...   \n",
              "1     RT @MarkDice: Joe Biden says blacks and Hispan...   \n",
              "2     https://t.co/F0PoDBsiQn\\n\\n🔥🔥🔥🔥🔥🔥🔥🔥🔥🔥🔥🔥🔥 \\n\\nT...   \n",
              "3     RT @Pakiiinextdoor: The Middle East literally ...   \n",
              "4     @smh @marywardy @Nigelgladstone 👮‍♀️Israel fai...   \n",
              "...                                                 ...   \n",
              "5395  RT @markcurtis30: UK arms and killings continu...   \n",
              "5396  Why Google sucks: Google racializes Muslims by...   \n",
              "5397  RT @Iyervval: What happened to “a vast majorit...   \n",
              "5398  I wonder what the BLM's thoughts are about the...   \n",
              "5399  @drmonika_langeh What rioters? Straight away s...   \n",
              "\n",
              "                     CreateDate  Biased  Calling_Out  Keyword  \n",
              "0     2021-05-22 09:17:08+00:00       0            0   Asians  \n",
              "1     2021-02-19 03:38:51+00:00       0            0   Blacks  \n",
              "2     2021-05-07 16:20:48+00:00       0            0  Latinos  \n",
              "3     2020-03-11 23:51:32+00:00       0            1   Asians  \n",
              "4     2021-09-23 08:14:32+00:00       0            0     Jews  \n",
              "...                         ...     ...          ...      ...  \n",
              "5395  2021-01-25 11:33:07+00:00       0            0   Asians  \n",
              "5396  2021-04-06 04:31:44+00:00       0            1  Muslims  \n",
              "5397  2020-11-02 09:00:01+00:00       1            0  Muslims  \n",
              "5398  2020-06-18 09:22:09+00:00       0            0     Jews  \n",
              "5399  2020-03-12 18:12:40+00:00       0            0  Muslims  \n",
              "\n",
              "[5400 rows x 7 columns]"
            ],
            "text/html": [
              "\n",
              "  <div id=\"df-25baa636-86fa-45df-9862-ec2e1625e3ab\">\n",
              "    <div class=\"colab-df-container\">\n",
              "      <div>\n",
              "<style scoped>\n",
              "    .dataframe tbody tr th:only-of-type {\n",
              "        vertical-align: middle;\n",
              "    }\n",
              "\n",
              "    .dataframe tbody tr th {\n",
              "        vertical-align: top;\n",
              "    }\n",
              "\n",
              "    .dataframe thead th {\n",
              "        text-align: right;\n",
              "    }\n",
              "</style>\n",
              "<table border=\"1\" class=\"dataframe\">\n",
              "  <thead>\n",
              "    <tr style=\"text-align: right;\">\n",
              "      <th></th>\n",
              "      <th>TweetID</th>\n",
              "      <th>Username</th>\n",
              "      <th>Text</th>\n",
              "      <th>CreateDate</th>\n",
              "      <th>Biased</th>\n",
              "      <th>Calling_Out</th>\n",
              "      <th>Keyword</th>\n",
              "    </tr>\n",
              "  </thead>\n",
              "  <tbody>\n",
              "    <tr>\n",
              "      <th>0</th>\n",
              "      <td>1396032368515813377</td>\n",
              "      <td>ASkepblue</td>\n",
              "      <td>This kind of remainds me of how some random 12...</td>\n",
              "      <td>2021-05-22 09:17:08+00:00</td>\n",
              "      <td>0</td>\n",
              "      <td>0</td>\n",
              "      <td>Asians</td>\n",
              "    </tr>\n",
              "    <tr>\n",
              "      <th>1</th>\n",
              "      <td>1362607553029558272</td>\n",
              "      <td>prua732</td>\n",
              "      <td>RT @MarkDice: Joe Biden says blacks and Hispan...</td>\n",
              "      <td>2021-02-19 03:38:51+00:00</td>\n",
              "      <td>0</td>\n",
              "      <td>0</td>\n",
              "      <td>Blacks</td>\n",
              "    </tr>\n",
              "    <tr>\n",
              "      <th>2</th>\n",
              "      <td>1390703170712588291</td>\n",
              "      <td>IuicNew</td>\n",
              "      <td>https://t.co/F0PoDBsiQn\\n\\n🔥🔥🔥🔥🔥🔥🔥🔥🔥🔥🔥🔥🔥 \\n\\nT...</td>\n",
              "      <td>2021-05-07 16:20:48+00:00</td>\n",
              "      <td>0</td>\n",
              "      <td>0</td>\n",
              "      <td>Latinos</td>\n",
              "    </tr>\n",
              "    <tr>\n",
              "      <th>3</th>\n",
              "      <td>1237888923495325696</td>\n",
              "      <td>lixyouth</td>\n",
              "      <td>RT @Pakiiinextdoor: The Middle East literally ...</td>\n",
              "      <td>2020-03-11 23:51:32+00:00</td>\n",
              "      <td>0</td>\n",
              "      <td>1</td>\n",
              "      <td>Asians</td>\n",
              "    </tr>\n",
              "    <tr>\n",
              "      <th>4</th>\n",
              "      <td>1440952710912565253</td>\n",
              "      <td>LawrenceWin1</td>\n",
              "      <td>@smh @marywardy @Nigelgladstone 👮‍♀️Israel fai...</td>\n",
              "      <td>2021-09-23 08:14:32+00:00</td>\n",
              "      <td>0</td>\n",
              "      <td>0</td>\n",
              "      <td>Jews</td>\n",
              "    </tr>\n",
              "    <tr>\n",
              "      <th>...</th>\n",
              "      <td>...</td>\n",
              "      <td>...</td>\n",
              "      <td>...</td>\n",
              "      <td>...</td>\n",
              "      <td>...</td>\n",
              "      <td>...</td>\n",
              "      <td>...</td>\n",
              "    </tr>\n",
              "    <tr>\n",
              "      <th>5395</th>\n",
              "      <td>1353667209701294080</td>\n",
              "      <td>BiztheBuz</td>\n",
              "      <td>RT @markcurtis30: UK arms and killings continu...</td>\n",
              "      <td>2021-01-25 11:33:07+00:00</td>\n",
              "      <td>0</td>\n",
              "      <td>0</td>\n",
              "      <td>Asians</td>\n",
              "    </tr>\n",
              "    <tr>\n",
              "      <th>5396</th>\n",
              "      <td>1379290703864459270</td>\n",
              "      <td>COMA387Group2</td>\n",
              "      <td>Why Google sucks: Google racializes Muslims by...</td>\n",
              "      <td>2021-04-06 04:31:44+00:00</td>\n",
              "      <td>0</td>\n",
              "      <td>1</td>\n",
              "      <td>Muslims</td>\n",
              "    </tr>\n",
              "    <tr>\n",
              "      <th>5397</th>\n",
              "      <td>1323188100370108417</td>\n",
              "      <td>krmanishsingh</td>\n",
              "      <td>RT @Iyervval: What happened to “a vast majorit...</td>\n",
              "      <td>2020-11-02 09:00:01+00:00</td>\n",
              "      <td>1</td>\n",
              "      <td>0</td>\n",
              "      <td>Muslims</td>\n",
              "    </tr>\n",
              "    <tr>\n",
              "      <th>5398</th>\n",
              "      <td>1273546532688662531</td>\n",
              "      <td>DaveBell100</td>\n",
              "      <td>I wonder what the BLM's thoughts are about the...</td>\n",
              "      <td>2020-06-18 09:22:09+00:00</td>\n",
              "      <td>0</td>\n",
              "      <td>0</td>\n",
              "      <td>Jews</td>\n",
              "    </tr>\n",
              "    <tr>\n",
              "      <th>5399</th>\n",
              "      <td>1238166031987814402</td>\n",
              "      <td>mc160402882</td>\n",
              "      <td>@drmonika_langeh What rioters? Straight away s...</td>\n",
              "      <td>2020-03-12 18:12:40+00:00</td>\n",
              "      <td>0</td>\n",
              "      <td>0</td>\n",
              "      <td>Muslims</td>\n",
              "    </tr>\n",
              "  </tbody>\n",
              "</table>\n",
              "<p>5400 rows × 7 columns</p>\n",
              "</div>\n",
              "      <button class=\"colab-df-convert\" onclick=\"convertToInteractive('df-25baa636-86fa-45df-9862-ec2e1625e3ab')\"\n",
              "              title=\"Convert this dataframe to an interactive table.\"\n",
              "              style=\"display:none;\">\n",
              "        \n",
              "  <svg xmlns=\"http://www.w3.org/2000/svg\" height=\"24px\"viewBox=\"0 0 24 24\"\n",
              "       width=\"24px\">\n",
              "    <path d=\"M0 0h24v24H0V0z\" fill=\"none\"/>\n",
              "    <path d=\"M18.56 5.44l.94 2.06.94-2.06 2.06-.94-2.06-.94-.94-2.06-.94 2.06-2.06.94zm-11 1L8.5 8.5l.94-2.06 2.06-.94-2.06-.94L8.5 2.5l-.94 2.06-2.06.94zm10 10l.94 2.06.94-2.06 2.06-.94-2.06-.94-.94-2.06-.94 2.06-2.06.94z\"/><path d=\"M17.41 7.96l-1.37-1.37c-.4-.4-.92-.59-1.43-.59-.52 0-1.04.2-1.43.59L10.3 9.45l-7.72 7.72c-.78.78-.78 2.05 0 2.83L4 21.41c.39.39.9.59 1.41.59.51 0 1.02-.2 1.41-.59l7.78-7.78 2.81-2.81c.8-.78.8-2.07 0-2.86zM5.41 20L4 18.59l7.72-7.72 1.47 1.35L5.41 20z\"/>\n",
              "  </svg>\n",
              "      </button>\n",
              "      \n",
              "  <style>\n",
              "    .colab-df-container {\n",
              "      display:flex;\n",
              "      flex-wrap:wrap;\n",
              "      gap: 12px;\n",
              "    }\n",
              "\n",
              "    .colab-df-convert {\n",
              "      background-color: #E8F0FE;\n",
              "      border: none;\n",
              "      border-radius: 50%;\n",
              "      cursor: pointer;\n",
              "      display: none;\n",
              "      fill: #1967D2;\n",
              "      height: 32px;\n",
              "      padding: 0 0 0 0;\n",
              "      width: 32px;\n",
              "    }\n",
              "\n",
              "    .colab-df-convert:hover {\n",
              "      background-color: #E2EBFA;\n",
              "      box-shadow: 0px 1px 2px rgba(60, 64, 67, 0.3), 0px 1px 3px 1px rgba(60, 64, 67, 0.15);\n",
              "      fill: #174EA6;\n",
              "    }\n",
              "\n",
              "    [theme=dark] .colab-df-convert {\n",
              "      background-color: #3B4455;\n",
              "      fill: #D2E3FC;\n",
              "    }\n",
              "\n",
              "    [theme=dark] .colab-df-convert:hover {\n",
              "      background-color: #434B5C;\n",
              "      box-shadow: 0px 1px 3px 1px rgba(0, 0, 0, 0.15);\n",
              "      filter: drop-shadow(0px 1px 2px rgba(0, 0, 0, 0.3));\n",
              "      fill: #FFFFFF;\n",
              "    }\n",
              "  </style>\n",
              "\n",
              "      <script>\n",
              "        const buttonEl =\n",
              "          document.querySelector('#df-25baa636-86fa-45df-9862-ec2e1625e3ab button.colab-df-convert');\n",
              "        buttonEl.style.display =\n",
              "          google.colab.kernel.accessAllowed ? 'block' : 'none';\n",
              "\n",
              "        async function convertToInteractive(key) {\n",
              "          const element = document.querySelector('#df-25baa636-86fa-45df-9862-ec2e1625e3ab');\n",
              "          const dataTable =\n",
              "            await google.colab.kernel.invokeFunction('convertToInteractive',\n",
              "                                                     [key], {});\n",
              "          if (!dataTable) return;\n",
              "\n",
              "          const docLinkHtml = 'Like what you see? Visit the ' +\n",
              "            '<a target=\"_blank\" href=https://colab.research.google.com/notebooks/data_table.ipynb>data table notebook</a>'\n",
              "            + ' to learn more about interactive tables.';\n",
              "          element.innerHTML = '';\n",
              "          dataTable['output_type'] = 'display_data';\n",
              "          await google.colab.output.renderOutput(dataTable, element);\n",
              "          const docLink = document.createElement('div');\n",
              "          docLink.innerHTML = docLinkHtml;\n",
              "          element.appendChild(docLink);\n",
              "        }\n",
              "      </script>\n",
              "    </div>\n",
              "  </div>\n",
              "  "
            ]
          },
          "metadata": {},
          "execution_count": 86
        }
      ]
    },
    {
      "cell_type": "code",
      "source": [
        "import re, string\n",
        "re_tok = re.compile(f'([{string.punctuation}“”¨«»®´·º½¾¿¡§£₤‘’])')\n",
        "def tokenize(s): return re_tok.split(s)"
      ],
      "metadata": {
        "id": "wdrExMXwoMg5"
      },
      "execution_count": 87,
      "outputs": []
    },
    {
      "cell_type": "code",
      "source": [
        "test = pd.read_csv('/90Percent_GoldStander_Data.csv')"
      ],
      "metadata": {
        "id": "t2FNxGAfpQ1H"
      },
      "execution_count": 88,
      "outputs": []
    },
    {
      "cell_type": "code",
      "source": [
        "n=df.shape[0]"
      ],
      "metadata": {
        "id": "jARDUnOdrF0u"
      },
      "execution_count": 89,
      "outputs": []
    },
    {
      "cell_type": "code",
      "source": [
        "train=df.drop(['TweetID'],axis=1)\n",
        "test=test.drop(['TweetID'],axis=1)"
      ],
      "metadata": {
        "id": "rm3yWW83rTxi"
      },
      "execution_count": 90,
      "outputs": []
    },
    {
      "cell_type": "code",
      "source": [
        "display(train.head())\n",
        "display(test.head())"
      ],
      "metadata": {
        "colab": {
          "base_uri": "https://localhost:8080/",
          "height": 629
        },
        "id": "bv4dKEXtsc2y",
        "outputId": "ba5e19d7-60a3-4121-a851-0f8aa241a64e"
      },
      "execution_count": 91,
      "outputs": [
        {
          "output_type": "display_data",
          "data": {
            "text/plain": [
              "       Username                                               Text  \\\n",
              "0     ASkepblue  This kind of remainds me of how some random 12...   \n",
              "1       prua732  RT @MarkDice: Joe Biden says blacks and Hispan...   \n",
              "2       IuicNew  https://t.co/F0PoDBsiQn\\n\\n🔥🔥🔥🔥🔥🔥🔥🔥🔥🔥🔥🔥🔥 \\n\\nT...   \n",
              "3      lixyouth  RT @Pakiiinextdoor: The Middle East literally ...   \n",
              "4  LawrenceWin1  @smh @marywardy @Nigelgladstone 👮‍♀️Israel fai...   \n",
              "\n",
              "                  CreateDate  Biased  Calling_Out  Keyword  \n",
              "0  2021-05-22 09:17:08+00:00       0            0   Asians  \n",
              "1  2021-02-19 03:38:51+00:00       0            0   Blacks  \n",
              "2  2021-05-07 16:20:48+00:00       0            0  Latinos  \n",
              "3  2020-03-11 23:51:32+00:00       0            1   Asians  \n",
              "4  2021-09-23 08:14:32+00:00       0            0     Jews  "
            ],
            "text/html": [
              "\n",
              "  <div id=\"df-6cb6a313-984c-4194-8ba0-139a29886b9b\">\n",
              "    <div class=\"colab-df-container\">\n",
              "      <div>\n",
              "<style scoped>\n",
              "    .dataframe tbody tr th:only-of-type {\n",
              "        vertical-align: middle;\n",
              "    }\n",
              "\n",
              "    .dataframe tbody tr th {\n",
              "        vertical-align: top;\n",
              "    }\n",
              "\n",
              "    .dataframe thead th {\n",
              "        text-align: right;\n",
              "    }\n",
              "</style>\n",
              "<table border=\"1\" class=\"dataframe\">\n",
              "  <thead>\n",
              "    <tr style=\"text-align: right;\">\n",
              "      <th></th>\n",
              "      <th>Username</th>\n",
              "      <th>Text</th>\n",
              "      <th>CreateDate</th>\n",
              "      <th>Biased</th>\n",
              "      <th>Calling_Out</th>\n",
              "      <th>Keyword</th>\n",
              "    </tr>\n",
              "  </thead>\n",
              "  <tbody>\n",
              "    <tr>\n",
              "      <th>0</th>\n",
              "      <td>ASkepblue</td>\n",
              "      <td>This kind of remainds me of how some random 12...</td>\n",
              "      <td>2021-05-22 09:17:08+00:00</td>\n",
              "      <td>0</td>\n",
              "      <td>0</td>\n",
              "      <td>Asians</td>\n",
              "    </tr>\n",
              "    <tr>\n",
              "      <th>1</th>\n",
              "      <td>prua732</td>\n",
              "      <td>RT @MarkDice: Joe Biden says blacks and Hispan...</td>\n",
              "      <td>2021-02-19 03:38:51+00:00</td>\n",
              "      <td>0</td>\n",
              "      <td>0</td>\n",
              "      <td>Blacks</td>\n",
              "    </tr>\n",
              "    <tr>\n",
              "      <th>2</th>\n",
              "      <td>IuicNew</td>\n",
              "      <td>https://t.co/F0PoDBsiQn\\n\\n🔥🔥🔥🔥🔥🔥🔥🔥🔥🔥🔥🔥🔥 \\n\\nT...</td>\n",
              "      <td>2021-05-07 16:20:48+00:00</td>\n",
              "      <td>0</td>\n",
              "      <td>0</td>\n",
              "      <td>Latinos</td>\n",
              "    </tr>\n",
              "    <tr>\n",
              "      <th>3</th>\n",
              "      <td>lixyouth</td>\n",
              "      <td>RT @Pakiiinextdoor: The Middle East literally ...</td>\n",
              "      <td>2020-03-11 23:51:32+00:00</td>\n",
              "      <td>0</td>\n",
              "      <td>1</td>\n",
              "      <td>Asians</td>\n",
              "    </tr>\n",
              "    <tr>\n",
              "      <th>4</th>\n",
              "      <td>LawrenceWin1</td>\n",
              "      <td>@smh @marywardy @Nigelgladstone 👮‍♀️Israel fai...</td>\n",
              "      <td>2021-09-23 08:14:32+00:00</td>\n",
              "      <td>0</td>\n",
              "      <td>0</td>\n",
              "      <td>Jews</td>\n",
              "    </tr>\n",
              "  </tbody>\n",
              "</table>\n",
              "</div>\n",
              "      <button class=\"colab-df-convert\" onclick=\"convertToInteractive('df-6cb6a313-984c-4194-8ba0-139a29886b9b')\"\n",
              "              title=\"Convert this dataframe to an interactive table.\"\n",
              "              style=\"display:none;\">\n",
              "        \n",
              "  <svg xmlns=\"http://www.w3.org/2000/svg\" height=\"24px\"viewBox=\"0 0 24 24\"\n",
              "       width=\"24px\">\n",
              "    <path d=\"M0 0h24v24H0V0z\" fill=\"none\"/>\n",
              "    <path d=\"M18.56 5.44l.94 2.06.94-2.06 2.06-.94-2.06-.94-.94-2.06-.94 2.06-2.06.94zm-11 1L8.5 8.5l.94-2.06 2.06-.94-2.06-.94L8.5 2.5l-.94 2.06-2.06.94zm10 10l.94 2.06.94-2.06 2.06-.94-2.06-.94-.94-2.06-.94 2.06-2.06.94z\"/><path d=\"M17.41 7.96l-1.37-1.37c-.4-.4-.92-.59-1.43-.59-.52 0-1.04.2-1.43.59L10.3 9.45l-7.72 7.72c-.78.78-.78 2.05 0 2.83L4 21.41c.39.39.9.59 1.41.59.51 0 1.02-.2 1.41-.59l7.78-7.78 2.81-2.81c.8-.78.8-2.07 0-2.86zM5.41 20L4 18.59l7.72-7.72 1.47 1.35L5.41 20z\"/>\n",
              "  </svg>\n",
              "      </button>\n",
              "      \n",
              "  <style>\n",
              "    .colab-df-container {\n",
              "      display:flex;\n",
              "      flex-wrap:wrap;\n",
              "      gap: 12px;\n",
              "    }\n",
              "\n",
              "    .colab-df-convert {\n",
              "      background-color: #E8F0FE;\n",
              "      border: none;\n",
              "      border-radius: 50%;\n",
              "      cursor: pointer;\n",
              "      display: none;\n",
              "      fill: #1967D2;\n",
              "      height: 32px;\n",
              "      padding: 0 0 0 0;\n",
              "      width: 32px;\n",
              "    }\n",
              "\n",
              "    .colab-df-convert:hover {\n",
              "      background-color: #E2EBFA;\n",
              "      box-shadow: 0px 1px 2px rgba(60, 64, 67, 0.3), 0px 1px 3px 1px rgba(60, 64, 67, 0.15);\n",
              "      fill: #174EA6;\n",
              "    }\n",
              "\n",
              "    [theme=dark] .colab-df-convert {\n",
              "      background-color: #3B4455;\n",
              "      fill: #D2E3FC;\n",
              "    }\n",
              "\n",
              "    [theme=dark] .colab-df-convert:hover {\n",
              "      background-color: #434B5C;\n",
              "      box-shadow: 0px 1px 3px 1px rgba(0, 0, 0, 0.15);\n",
              "      filter: drop-shadow(0px 1px 2px rgba(0, 0, 0, 0.3));\n",
              "      fill: #FFFFFF;\n",
              "    }\n",
              "  </style>\n",
              "\n",
              "      <script>\n",
              "        const buttonEl =\n",
              "          document.querySelector('#df-6cb6a313-984c-4194-8ba0-139a29886b9b button.colab-df-convert');\n",
              "        buttonEl.style.display =\n",
              "          google.colab.kernel.accessAllowed ? 'block' : 'none';\n",
              "\n",
              "        async function convertToInteractive(key) {\n",
              "          const element = document.querySelector('#df-6cb6a313-984c-4194-8ba0-139a29886b9b');\n",
              "          const dataTable =\n",
              "            await google.colab.kernel.invokeFunction('convertToInteractive',\n",
              "                                                     [key], {});\n",
              "          if (!dataTable) return;\n",
              "\n",
              "          const docLinkHtml = 'Like what you see? Visit the ' +\n",
              "            '<a target=\"_blank\" href=https://colab.research.google.com/notebooks/data_table.ipynb>data table notebook</a>'\n",
              "            + ' to learn more about interactive tables.';\n",
              "          element.innerHTML = '';\n",
              "          dataTable['output_type'] = 'display_data';\n",
              "          await google.colab.output.renderOutput(dataTable, element);\n",
              "          const docLink = document.createElement('div');\n",
              "          docLink.innerHTML = docLinkHtml;\n",
              "          element.appendChild(docLink);\n",
              "        }\n",
              "      </script>\n",
              "    </div>\n",
              "  </div>\n",
              "  "
            ]
          },
          "metadata": {}
        },
        {
          "output_type": "display_data",
          "data": {
            "text/plain": [
              "   Unnamed: 0         Username  \\\n",
              "0        4436         dillontj   \n",
              "1        4561     RedBirdRight   \n",
              "2        4431    HaleyTessIsis   \n",
              "3        6396   Morristhecat79   \n",
              "4        2789  IreneBr97053646   \n",
              "\n",
              "                                                Text  \\\n",
              "0  Brooklyn: Orthodox Jews protesting Governor An...   \n",
              "1  According to Twitter, it is perfectly acceptab...   \n",
              "2  @EinsteinsMagic NEVER AGAIN.\\n\\nThe Democrat P...   \n",
              "3  A jew hating antisemite tweets:\\n“You’re a Zio...   \n",
              "4  You soulless going to hell man. You are empty....   \n",
              "\n",
              "                  CreateDate  Biased  CO  Keyword  \n",
              "0  2020-10-08 13:13:22+00:00       0   0     Jews  \n",
              "1  2020-07-31 19:10:02+00:00       0   0     Jews  \n",
              "2  2020-10-07 12:36:21+00:00       1   0     Jews  \n",
              "3  2019-01-20 17:47:30+00:00       1   0  ZioNazi  \n",
              "4  2020-03-13 17:11:40+00:00       1   0     Jews  "
            ],
            "text/html": [
              "\n",
              "  <div id=\"df-09e092d1-42b7-4d86-b523-57422131fbc3\">\n",
              "    <div class=\"colab-df-container\">\n",
              "      <div>\n",
              "<style scoped>\n",
              "    .dataframe tbody tr th:only-of-type {\n",
              "        vertical-align: middle;\n",
              "    }\n",
              "\n",
              "    .dataframe tbody tr th {\n",
              "        vertical-align: top;\n",
              "    }\n",
              "\n",
              "    .dataframe thead th {\n",
              "        text-align: right;\n",
              "    }\n",
              "</style>\n",
              "<table border=\"1\" class=\"dataframe\">\n",
              "  <thead>\n",
              "    <tr style=\"text-align: right;\">\n",
              "      <th></th>\n",
              "      <th>Unnamed: 0</th>\n",
              "      <th>Username</th>\n",
              "      <th>Text</th>\n",
              "      <th>CreateDate</th>\n",
              "      <th>Biased</th>\n",
              "      <th>CO</th>\n",
              "      <th>Keyword</th>\n",
              "    </tr>\n",
              "  </thead>\n",
              "  <tbody>\n",
              "    <tr>\n",
              "      <th>0</th>\n",
              "      <td>4436</td>\n",
              "      <td>dillontj</td>\n",
              "      <td>Brooklyn: Orthodox Jews protesting Governor An...</td>\n",
              "      <td>2020-10-08 13:13:22+00:00</td>\n",
              "      <td>0</td>\n",
              "      <td>0</td>\n",
              "      <td>Jews</td>\n",
              "    </tr>\n",
              "    <tr>\n",
              "      <th>1</th>\n",
              "      <td>4561</td>\n",
              "      <td>RedBirdRight</td>\n",
              "      <td>According to Twitter, it is perfectly acceptab...</td>\n",
              "      <td>2020-07-31 19:10:02+00:00</td>\n",
              "      <td>0</td>\n",
              "      <td>0</td>\n",
              "      <td>Jews</td>\n",
              "    </tr>\n",
              "    <tr>\n",
              "      <th>2</th>\n",
              "      <td>4431</td>\n",
              "      <td>HaleyTessIsis</td>\n",
              "      <td>@EinsteinsMagic NEVER AGAIN.\\n\\nThe Democrat P...</td>\n",
              "      <td>2020-10-07 12:36:21+00:00</td>\n",
              "      <td>1</td>\n",
              "      <td>0</td>\n",
              "      <td>Jews</td>\n",
              "    </tr>\n",
              "    <tr>\n",
              "      <th>3</th>\n",
              "      <td>6396</td>\n",
              "      <td>Morristhecat79</td>\n",
              "      <td>A jew hating antisemite tweets:\\n“You’re a Zio...</td>\n",
              "      <td>2019-01-20 17:47:30+00:00</td>\n",
              "      <td>1</td>\n",
              "      <td>0</td>\n",
              "      <td>ZioNazi</td>\n",
              "    </tr>\n",
              "    <tr>\n",
              "      <th>4</th>\n",
              "      <td>2789</td>\n",
              "      <td>IreneBr97053646</td>\n",
              "      <td>You soulless going to hell man. You are empty....</td>\n",
              "      <td>2020-03-13 17:11:40+00:00</td>\n",
              "      <td>1</td>\n",
              "      <td>0</td>\n",
              "      <td>Jews</td>\n",
              "    </tr>\n",
              "  </tbody>\n",
              "</table>\n",
              "</div>\n",
              "      <button class=\"colab-df-convert\" onclick=\"convertToInteractive('df-09e092d1-42b7-4d86-b523-57422131fbc3')\"\n",
              "              title=\"Convert this dataframe to an interactive table.\"\n",
              "              style=\"display:none;\">\n",
              "        \n",
              "  <svg xmlns=\"http://www.w3.org/2000/svg\" height=\"24px\"viewBox=\"0 0 24 24\"\n",
              "       width=\"24px\">\n",
              "    <path d=\"M0 0h24v24H0V0z\" fill=\"none\"/>\n",
              "    <path d=\"M18.56 5.44l.94 2.06.94-2.06 2.06-.94-2.06-.94-.94-2.06-.94 2.06-2.06.94zm-11 1L8.5 8.5l.94-2.06 2.06-.94-2.06-.94L8.5 2.5l-.94 2.06-2.06.94zm10 10l.94 2.06.94-2.06 2.06-.94-2.06-.94-.94-2.06-.94 2.06-2.06.94z\"/><path d=\"M17.41 7.96l-1.37-1.37c-.4-.4-.92-.59-1.43-.59-.52 0-1.04.2-1.43.59L10.3 9.45l-7.72 7.72c-.78.78-.78 2.05 0 2.83L4 21.41c.39.39.9.59 1.41.59.51 0 1.02-.2 1.41-.59l7.78-7.78 2.81-2.81c.8-.78.8-2.07 0-2.86zM5.41 20L4 18.59l7.72-7.72 1.47 1.35L5.41 20z\"/>\n",
              "  </svg>\n",
              "      </button>\n",
              "      \n",
              "  <style>\n",
              "    .colab-df-container {\n",
              "      display:flex;\n",
              "      flex-wrap:wrap;\n",
              "      gap: 12px;\n",
              "    }\n",
              "\n",
              "    .colab-df-convert {\n",
              "      background-color: #E8F0FE;\n",
              "      border: none;\n",
              "      border-radius: 50%;\n",
              "      cursor: pointer;\n",
              "      display: none;\n",
              "      fill: #1967D2;\n",
              "      height: 32px;\n",
              "      padding: 0 0 0 0;\n",
              "      width: 32px;\n",
              "    }\n",
              "\n",
              "    .colab-df-convert:hover {\n",
              "      background-color: #E2EBFA;\n",
              "      box-shadow: 0px 1px 2px rgba(60, 64, 67, 0.3), 0px 1px 3px 1px rgba(60, 64, 67, 0.15);\n",
              "      fill: #174EA6;\n",
              "    }\n",
              "\n",
              "    [theme=dark] .colab-df-convert {\n",
              "      background-color: #3B4455;\n",
              "      fill: #D2E3FC;\n",
              "    }\n",
              "\n",
              "    [theme=dark] .colab-df-convert:hover {\n",
              "      background-color: #434B5C;\n",
              "      box-shadow: 0px 1px 3px 1px rgba(0, 0, 0, 0.15);\n",
              "      filter: drop-shadow(0px 1px 2px rgba(0, 0, 0, 0.3));\n",
              "      fill: #FFFFFF;\n",
              "    }\n",
              "  </style>\n",
              "\n",
              "      <script>\n",
              "        const buttonEl =\n",
              "          document.querySelector('#df-09e092d1-42b7-4d86-b523-57422131fbc3 button.colab-df-convert');\n",
              "        buttonEl.style.display =\n",
              "          google.colab.kernel.accessAllowed ? 'block' : 'none';\n",
              "\n",
              "        async function convertToInteractive(key) {\n",
              "          const element = document.querySelector('#df-09e092d1-42b7-4d86-b523-57422131fbc3');\n",
              "          const dataTable =\n",
              "            await google.colab.kernel.invokeFunction('convertToInteractive',\n",
              "                                                     [key], {});\n",
              "          if (!dataTable) return;\n",
              "\n",
              "          const docLinkHtml = 'Like what you see? Visit the ' +\n",
              "            '<a target=\"_blank\" href=https://colab.research.google.com/notebooks/data_table.ipynb>data table notebook</a>'\n",
              "            + ' to learn more about interactive tables.';\n",
              "          element.innerHTML = '';\n",
              "          dataTable['output_type'] = 'display_data';\n",
              "          await google.colab.output.renderOutput(dataTable, element);\n",
              "          const docLink = document.createElement('div');\n",
              "          docLink.innerHTML = docLinkHtml;\n",
              "          element.appendChild(docLink);\n",
              "        }\n",
              "      </script>\n",
              "    </div>\n",
              "  </div>\n",
              "  "
            ]
          },
          "metadata": {}
        }
      ]
    },
    {
      "cell_type": "markdown",
      "source": [
        "Text lengths vary a lot"
      ],
      "metadata": {
        "id": "rq2XjTdt3YGW"
      }
    },
    {
      "cell_type": "code",
      "source": [
        "lens=train['Text'].str.len()\n",
        "lens.hist()\n",
        "lens.min(),lens.max(),lens.std(),lens.mean()"
      ],
      "metadata": {
        "colab": {
          "base_uri": "https://localhost:8080/",
          "height": 282
        },
        "id": "xQWsZ-GLtiUV",
        "outputId": "e83f0993-9511-4bae-e093-70b11ae48f2c"
      },
      "execution_count": 92,
      "outputs": [
        {
          "output_type": "execute_result",
          "data": {
            "text/plain": [
              "(20.0, 934.0, 88.62301628611468, 218.12803409301463)"
            ]
          },
          "metadata": {},
          "execution_count": 92
        },
        {
          "output_type": "display_data",
          "data": {
            "text/plain": [
              "<Figure size 432x288 with 1 Axes>"
            ],
            "image/png": "[encoded data removed]"
          },
          "metadata": {
            "needs_background": "light"
          }
        }
      ]
    },
    {
      "cell_type": "markdown",
      "source": [
        "Cleaning the data"
      ],
      "metadata": {
        "id": "SuXUxEuW3enu"
      }
    },
    {
      "cell_type": "code",
      "source": [
        "train_drop=train[['Biased', 'Calling_Out', 'Keyword']]\n",
        "cols=['Biased', 'Calling_Out', 'Keyword']\n",
        "good=1-train_drop.max(axis=1)\n",
        "\n",
        "train['good']=good\n",
        "display(train.head(5))\n",
        "test.head()\n",
        "no_comment=train[train['Text'].isnull()]\n",
        "print(\"nulls in train are {}\".format(len(no_comment)))"
      ],
      "metadata": {
        "colab": {
          "base_uri": "https://localhost:8080/",
          "height": 409
        },
        "id": "430Tp-xctpXr",
        "outputId": "c6261f29-1302-4a60-e53d-2a747abec925"
      },
      "execution_count": 93,
      "outputs": [
        {
          "output_type": "stream",
          "name": "stderr",
          "text": [
            "<ipython-input-93-ddc85fdee220>:3: FutureWarning: Dropping of nuisance columns in DataFrame reductions (with 'numeric_only=None') is deprecated; in a future version this will raise TypeError.  Select only valid columns before calling the reduction.\n",
            "  good=1-train_drop.max(axis=1)\n"
          ]
        },
        {
          "output_type": "display_data",
          "data": {
            "text/plain": [
              "       Username                                               Text  \\\n",
              "0     ASkepblue  This kind of remainds me of how some random 12...   \n",
              "1       prua732  RT @MarkDice: Joe Biden says blacks and Hispan...   \n",
              "2       IuicNew  https://t.co/F0PoDBsiQn\\n\\n🔥🔥🔥🔥🔥🔥🔥🔥🔥🔥🔥🔥🔥 \\n\\nT...   \n",
              "3      lixyouth  RT @Pakiiinextdoor: The Middle East literally ...   \n",
              "4  LawrenceWin1  @smh @marywardy @Nigelgladstone 👮‍♀️Israel fai...   \n",
              "\n",
              "                  CreateDate  Biased  Calling_Out  Keyword  good  \n",
              "0  2021-05-22 09:17:08+00:00       0            0   Asians     1  \n",
              "1  2021-02-19 03:38:51+00:00       0            0   Blacks     1  \n",
              "2  2021-05-07 16:20:48+00:00       0            0  Latinos     1  \n",
              "3  2020-03-11 23:51:32+00:00       0            1   Asians     0  \n",
              "4  2021-09-23 08:14:32+00:00       0            0     Jews     1  "
            ],
            "text/html": [
              "\n",
              "  <div id=\"df-034550e4-aed3-4084-98f5-1cc6cdff981f\">\n",
              "    <div class=\"colab-df-container\">\n",
              "      <div>\n",
              "<style scoped>\n",
              "    .dataframe tbody tr th:only-of-type {\n",
              "        vertical-align: middle;\n",
              "    }\n",
              "\n",
              "    .dataframe tbody tr th {\n",
              "        vertical-align: top;\n",
              "    }\n",
              "\n",
              "    .dataframe thead th {\n",
              "        text-align: right;\n",
              "    }\n",
              "</style>\n",
              "<table border=\"1\" class=\"dataframe\">\n",
              "  <thead>\n",
              "    <tr style=\"text-align: right;\">\n",
              "      <th></th>\n",
              "      <th>Username</th>\n",
              "      <th>Text</th>\n",
              "      <th>CreateDate</th>\n",
              "      <th>Biased</th>\n",
              "      <th>Calling_Out</th>\n",
              "      <th>Keyword</th>\n",
              "      <th>good</th>\n",
              "    </tr>\n",
              "  </thead>\n",
              "  <tbody>\n",
              "    <tr>\n",
              "      <th>0</th>\n",
              "      <td>ASkepblue</td>\n",
              "      <td>This kind of remainds me of how some random 12...</td>\n",
              "      <td>2021-05-22 09:17:08+00:00</td>\n",
              "      <td>0</td>\n",
              "      <td>0</td>\n",
              "      <td>Asians</td>\n",
              "      <td>1</td>\n",
              "    </tr>\n",
              "    <tr>\n",
              "      <th>1</th>\n",
              "      <td>prua732</td>\n",
              "      <td>RT @MarkDice: Joe Biden says blacks and Hispan...</td>\n",
              "      <td>2021-02-19 03:38:51+00:00</td>\n",
              "      <td>0</td>\n",
              "      <td>0</td>\n",
              "      <td>Blacks</td>\n",
              "      <td>1</td>\n",
              "    </tr>\n",
              "    <tr>\n",
              "      <th>2</th>\n",
              "      <td>IuicNew</td>\n",
              "      <td>https://t.co/F0PoDBsiQn\\n\\n🔥🔥🔥🔥🔥🔥🔥🔥🔥🔥🔥🔥🔥 \\n\\nT...</td>\n",
              "      <td>2021-05-07 16:20:48+00:00</td>\n",
              "      <td>0</td>\n",
              "      <td>0</td>\n",
              "      <td>Latinos</td>\n",
              "      <td>1</td>\n",
              "    </tr>\n",
              "    <tr>\n",
              "      <th>3</th>\n",
              "      <td>lixyouth</td>\n",
              "      <td>RT @Pakiiinextdoor: The Middle East literally ...</td>\n",
              "      <td>2020-03-11 23:51:32+00:00</td>\n",
              "      <td>0</td>\n",
              "      <td>1</td>\n",
              "      <td>Asians</td>\n",
              "      <td>0</td>\n",
              "    </tr>\n",
              "    <tr>\n",
              "      <th>4</th>\n",
              "      <td>LawrenceWin1</td>\n",
              "      <td>@smh @marywardy @Nigelgladstone 👮‍♀️Israel fai...</td>\n",
              "      <td>2021-09-23 08:14:32+00:00</td>\n",
              "      <td>0</td>\n",
              "      <td>0</td>\n",
              "      <td>Jews</td>\n",
              "      <td>1</td>\n",
              "    </tr>\n",
              "  </tbody>\n",
              "</table>\n",
              "</div>\n",
              "      <button class=\"colab-df-convert\" onclick=\"convertToInteractive('df-034550e4-aed3-4084-98f5-1cc6cdff981f')\"\n",
              "              title=\"Convert this dataframe to an interactive table.\"\n",
              "              style=\"display:none;\">\n",
              "        \n",
              "  <svg xmlns=\"http://www.w3.org/2000/svg\" height=\"24px\"viewBox=\"0 0 24 24\"\n",
              "       width=\"24px\">\n",
              "    <path d=\"M0 0h24v24H0V0z\" fill=\"none\"/>\n",
              "    <path d=\"M18.56 5.44l.94 2.06.94-2.06 2.06-.94-2.06-.94-.94-2.06-.94 2.06-2.06.94zm-11 1L8.5 8.5l.94-2.06 2.06-.94-2.06-.94L8.5 2.5l-.94 2.06-2.06.94zm10 10l.94 2.06.94-2.06 2.06-.94-2.06-.94-.94-2.06-.94 2.06-2.06.94z\"/><path d=\"M17.41 7.96l-1.37-1.37c-.4-.4-.92-.59-1.43-.59-.52 0-1.04.2-1.43.59L10.3 9.45l-7.72 7.72c-.78.78-.78 2.05 0 2.83L4 21.41c.39.39.9.59 1.41.59.51 0 1.02-.2 1.41-.59l7.78-7.78 2.81-2.81c.8-.78.8-2.07 0-2.86zM5.41 20L4 18.59l7.72-7.72 1.47 1.35L5.41 20z\"/>\n",
              "  </svg>\n",
              "      </button>\n",
              "      \n",
              "  <style>\n",
              "    .colab-df-container {\n",
              "      display:flex;\n",
              "      flex-wrap:wrap;\n",
              "      gap: 12px;\n",
              "    }\n",
              "\n",
              "    .colab-df-convert {\n",
              "      background-color: #E8F0FE;\n",
              "      border: none;\n",
              "      border-radius: 50%;\n",
              "      cursor: pointer;\n",
              "      display: none;\n",
              "      fill: #1967D2;\n",
              "      height: 32px;\n",
              "      padding: 0 0 0 0;\n",
              "      width: 32px;\n",
              "    }\n",
              "\n",
              "    .colab-df-convert:hover {\n",
              "      background-color: #E2EBFA;\n",
              "      box-shadow: 0px 1px 2px rgba(60, 64, 67, 0.3), 0px 1px 3px 1px rgba(60, 64, 67, 0.15);\n",
              "      fill: #174EA6;\n",
              "    }\n",
              "\n",
              "    [theme=dark] .colab-df-convert {\n",
              "      background-color: #3B4455;\n",
              "      fill: #D2E3FC;\n",
              "    }\n",
              "\n",
              "    [theme=dark] .colab-df-convert:hover {\n",
              "      background-color: #434B5C;\n",
              "      box-shadow: 0px 1px 3px 1px rgba(0, 0, 0, 0.15);\n",
              "      filter: drop-shadow(0px 1px 2px rgba(0, 0, 0, 0.3));\n",
              "      fill: #FFFFFF;\n",
              "    }\n",
              "  </style>\n",
              "\n",
              "      <script>\n",
              "        const buttonEl =\n",
              "          document.querySelector('#df-034550e4-aed3-4084-98f5-1cc6cdff981f button.colab-df-convert');\n",
              "        buttonEl.style.display =\n",
              "          google.colab.kernel.accessAllowed ? 'block' : 'none';\n",
              "\n",
              "        async function convertToInteractive(key) {\n",
              "          const element = document.querySelector('#df-034550e4-aed3-4084-98f5-1cc6cdff981f');\n",
              "          const dataTable =\n",
              "            await google.colab.kernel.invokeFunction('convertToInteractive',\n",
              "                                                     [key], {});\n",
              "          if (!dataTable) return;\n",
              "\n",
              "          const docLinkHtml = 'Like what you see? Visit the ' +\n",
              "            '<a target=\"_blank\" href=https://colab.research.google.com/notebooks/data_table.ipynb>data table notebook</a>'\n",
              "            + ' to learn more about interactive tables.';\n",
              "          element.innerHTML = '';\n",
              "          dataTable['output_type'] = 'display_data';\n",
              "          await google.colab.output.renderOutput(dataTable, element);\n",
              "          const docLink = document.createElement('div');\n",
              "          docLink.innerHTML = docLinkHtml;\n",
              "          element.appendChild(docLink);\n",
              "        }\n",
              "      </script>\n",
              "    </div>\n",
              "  </div>\n",
              "  "
            ]
          },
          "metadata": {}
        },
        {
          "output_type": "stream",
          "name": "stdout",
          "text": [
            "nulls in train are 3\n"
          ]
        }
      ]
    },
    {
      "cell_type": "code",
      "source": [
        "test.dropna(axis=0, how=\"any\", thresh=None, subset=None, inplace=False).shape"
      ],
      "metadata": {
        "colab": {
          "base_uri": "https://localhost:8080/"
        },
        "id": "5Yli0iyRzku1",
        "outputId": "8430f13d-1029-462f-d342-d66d58c048a8"
      },
      "execution_count": 94,
      "outputs": [
        {
          "output_type": "execute_result",
          "data": {
            "text/plain": [
              "(6152, 7)"
            ]
          },
          "metadata": {},
          "execution_count": 94
        }
      ]
    },
    {
      "cell_type": "code",
      "source": [
        "train.dropna(axis=0, how=\"any\", thresh=None, subset=None, inplace=False).shape"
      ],
      "metadata": {
        "colab": {
          "base_uri": "https://localhost:8080/"
        },
        "id": "qGyBkEBUua1_",
        "outputId": "b516c0b1-2ae9-4b55-c565-d7b043855619"
      },
      "execution_count": 95,
      "outputs": [
        {
          "output_type": "execute_result",
          "data": {
            "text/plain": [
              "(5397, 7)"
            ]
          },
          "metadata": {},
          "execution_count": 95
        }
      ]
    },
    {
      "cell_type": "code",
      "source": [
        "n=train.shape[0]"
      ],
      "metadata": {
        "id": "J9MDPf8Tut0n"
      },
      "execution_count": 96,
      "outputs": []
    },
    {
      "cell_type": "markdown",
      "source": [
        "Data Normalization"
      ],
      "metadata": {
        "id": "QCgB8uv03q0H"
      }
    },
    {
      "cell_type": "code",
      "source": [
        "def clean_text(text):\n",
        "    text = re.sub(r\"what's\", \"what is \", str(text))\n",
        "    text = re.sub(r\"\\'s\", \" \", str(text))\n",
        "    text = re.sub(r\"\\'ve\", \" have \", str(text))\n",
        "    text = re.sub(r\"can't\", \"cannot \", str(text))\n",
        "    text = re.sub(r\"n't\", \" not \", str(text))\n",
        "    text = re.sub(r\"i'm\", \"i am \", str(text))\n",
        "    text = re.sub(r\"\\'re\", \" are \", str(text))\n",
        "    text = re.sub(r\"\\'d\", \" would \", str(text))\n",
        "    text = re.sub(r\"\\'ll\", \" will \", str(text))\n",
        "    text = re.sub(r\"\\'scuse\", \" excuse \", str(text))\n",
        "    text = re.sub('\\W', ' ', str(text))\n",
        "    text = re.sub('\\s+', ' ', str(text))\n",
        "    text = text.strip(' ')\n",
        "    return text"
      ],
      "metadata": {
        "id": "dnEpKrvdu3O1"
      },
      "execution_count": 97,
      "outputs": []
    },
    {
      "cell_type": "code",
      "source": [
        "train['Text'] = train['Text'].map(lambda com : clean_text(com))\n",
        "\n",
        "test['Text'] = test['Text'].map(lambda com : clean_text(com))"
      ],
      "metadata": {
        "id": "VVSPpovDvAPS"
      },
      "execution_count": 98,
      "outputs": []
    },
    {
      "cell_type": "code",
      "source": [
        "from sklearn.feature_extraction.text import TfidfVectorizer\n",
        "vect= TfidfVectorizer(max_features=5000,stop_words='english')\n",
        "train_vec=vect.fit_transform(train.Text)\n",
        "test_vec=vect.fit_transform(test.Text)"
      ],
      "metadata": {
        "id": "ABC_5EXnwdUp"
      },
      "execution_count": 99,
      "outputs": []
    },
    {
      "cell_type": "code",
      "source": [
        "display(train_vec)\n",
        "display(test_vec)"
      ],
      "metadata": {
        "colab": {
          "base_uri": "https://localhost:8080/",
          "height": 86
        },
        "id": "gfcdvKXPxbed",
        "outputId": "2c47eea9-7cbe-4359-be7b-c4a65d5b148f"
      },
      "execution_count": 100,
      "outputs": [
        {
          "output_type": "display_data",
          "data": {
            "text/plain": [
              "<5400x5000 sparse matrix of type '<class 'numpy.float64'>'\n",
              "\twith 76325 stored elements in Compressed Sparse Row format>"
            ]
          },
          "metadata": {}
        },
        {
          "output_type": "display_data",
          "data": {
            "text/plain": [
              "<6152x5000 sparse matrix of type '<class 'numpy.float64'>'\n",
              "\twith 76806 stored elements in Compressed Sparse Row format>"
            ]
          },
          "metadata": {}
        }
      ]
    },
    {
      "cell_type": "markdown",
      "source": [
        "Preparing the Model"
      ],
      "metadata": {
        "id": "fMFRYtaJ3xd2"
      }
    },
    {
      "cell_type": "code",
      "source": [
        "from sklearn.linear_model import LogisticRegression\n",
        "logreg=LogisticRegression(C=19)"
      ],
      "metadata": {
        "id": "A81nodV-xhar"
      },
      "execution_count": 101,
      "outputs": []
    },
    {
      "cell_type": "code",
      "source": [
        "from sklearn.metrics import f1_score\n",
        "for label in cols:\n",
        "    y=train[label]\n",
        "    logreg.fit(train_vec,y)\n",
        "    ypred=logreg.predict(train_vec)\n",
        "    test_y_prob = logreg.predict_proba(test_vec)[:,1]"
      ],
      "metadata": {
        "colab": {
          "base_uri": "https://localhost:8080/"
        },
        "id": "SGhUo_Rixmzv",
        "outputId": "5ee94df2-4f2d-4d5d-8852-eb3eadd8a96a"
      },
      "execution_count": 102,
      "outputs": [
        {
          "output_type": "stream",
          "name": "stderr",
          "text": [
            "/usr/local/lib/python3.8/dist-packages/sklearn/linear_model/_logistic.py:814: ConvergenceWarning: lbfgs failed to converge (status=1):\n",
            "STOP: TOTAL NO. of ITERATIONS REACHED LIMIT.\n",
            "\n",
            "Increase the number of iterations (max_iter) or scale the data as shown in:\n",
            "    https://scikit-learn.org/stable/modules/preprocessing.html\n",
            "Please also refer to the documentation for alternative solver options:\n",
            "    https://scikit-learn.org/stable/modules/linear_model.html#logistic-regression\n",
            "  n_iter_i = _check_optimize_result(\n",
            "/usr/local/lib/python3.8/dist-packages/sklearn/linear_model/_logistic.py:814: ConvergenceWarning: lbfgs failed to converge (status=1):\n",
            "STOP: TOTAL NO. of ITERATIONS REACHED LIMIT.\n",
            "\n",
            "Increase the number of iterations (max_iter) or scale the data as shown in:\n",
            "    https://scikit-learn.org/stable/modules/preprocessing.html\n",
            "Please also refer to the documentation for alternative solver options:\n",
            "    https://scikit-learn.org/stable/modules/linear_model.html#logistic-regression\n",
            "  n_iter_i = _check_optimize_result(\n",
            "/usr/local/lib/python3.8/dist-packages/sklearn/linear_model/_logistic.py:814: ConvergenceWarning: lbfgs failed to converge (status=1):\n",
            "STOP: TOTAL NO. of ITERATIONS REACHED LIMIT.\n",
            "\n",
            "Increase the number of iterations (max_iter) or scale the data as shown in:\n",
            "    https://scikit-learn.org/stable/modules/preprocessing.html\n",
            "Please also refer to the documentation for alternative solver options:\n",
            "    https://scikit-learn.org/stable/modules/linear_model.html#logistic-regression\n",
            "  n_iter_i = _check_optimize_result(\n"
          ]
        }
      ]
    },
    {
      "cell_type": "markdown",
      "source": [
        "Accuracy"
      ],
      "metadata": {
        "id": "ulh3OvEX33sd"
      }
    },
    {
      "cell_type": "code",
      "source": [
        "f1_score(y, ypred, average='macro')"
      ],
      "metadata": {
        "colab": {
          "base_uri": "https://localhost:8080/"
        },
        "id": "o6t5KO_gytbT",
        "outputId": "9487f1cf-5661-48fd-b4ff-5980fc06d362"
      },
      "execution_count": 103,
      "outputs": [
        {
          "output_type": "execute_result",
          "data": {
            "text/plain": [
              "0.9920517007411913"
            ]
          },
          "metadata": {},
          "execution_count": 103
        }
      ]
    },
    {
      "cell_type": "code",
      "source": [],
      "metadata": {
        "id": "reFBxtj4156_"
      },
      "execution_count": null,
      "outputs": []
    }
  ]
}